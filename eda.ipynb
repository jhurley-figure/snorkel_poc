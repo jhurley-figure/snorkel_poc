{
 "cells": [
  {
   "cell_type": "code",
   "execution_count": 1,
   "id": "e7fa31e1",
   "metadata": {},
   "outputs": [],
   "source": [
    "import dmnet.util as u\n",
    "from snorkel.labeling import LFAnalysis, filter_unlabeled_dataframe\n",
    "from snorkel.labeling.model import LabelModel, MajorityLabelVoter"
   ]
  },
  {
   "cell_type": "code",
   "execution_count": 2,
   "id": "2373fb37",
   "metadata": {},
   "outputs": [],
   "source": [
    "desmat = u.pickle_load(\"gs://jdh-bucket/projects/snorkel_pos/dmatrics.dict\")"
   ]
  },
  {
   "cell_type": "code",
   "execution_count": 3,
   "id": "5bbefbe2",
   "metadata": {},
   "outputs": [],
   "source": [
    "mtx = u.pickle_load(\"gs://jdh-bucket/projects/snorkel_pos/lbl_matrix.mtx\")"
   ]
  },
  {
   "cell_type": "code",
   "execution_count": 6,
   "id": "34bd9805",
   "metadata": {},
   "outputs": [
    {
     "data": {
      "text/plain": [
       "1000000"
      ]
     },
     "execution_count": 6,
     "metadata": {},
     "output_type": "execute_result"
    }
   ],
   "source": [
    "len(desmat['snorkel_tr'])"
   ]
  },
  {
   "cell_type": "code",
   "execution_count": 18,
   "id": "96bedd2d",
   "metadata": {},
   "outputs": [
    {
     "data": {
      "text/plain": [
       "1200.0"
      ]
     },
     "execution_count": 18,
     "metadata": {},
     "output_type": "execute_result"
    }
   ],
   "source": [
    ".0012 * 1000000"
   ]
  },
  {
   "cell_type": "code",
   "execution_count": 19,
   "id": "7c8764c4",
   "metadata": {},
   "outputs": [
    {
     "data": {
      "text/plain": [
       "99.88"
      ]
     },
     "execution_count": 19,
     "metadata": {},
     "output_type": "execute_result"
    }
   ],
   "source": [
    "100 - .12"
   ]
  },
  {
   "cell_type": "code",
   "execution_count": 11,
   "id": "1469143e",
   "metadata": {},
   "outputs": [
    {
     "data": {
      "text/plain": [
       "array([[-1,  0, -1],\n",
       "       [-1, -1, -1],\n",
       "       [ 0,  0,  0],\n",
       "       ...,\n",
       "       [ 0, -1, -1],\n",
       "       [-1, -1, -1],\n",
       "       [ 0,  0, -1]])"
      ]
     },
     "execution_count": 11,
     "metadata": {},
     "output_type": "execute_result"
    }
   ],
   "source": [
    "mtx"
   ]
  },
  {
   "cell_type": "code",
   "execution_count": 20,
   "id": "8af72e19",
   "metadata": {},
   "outputs": [],
   "source": [
    "ub = np.percentile(mtx, q=99.88, axis=0)\n",
    "lb = np.percentile(mtx, q=60, axis=0)"
   ]
  },
  {
   "cell_type": "code",
   "execution_count": 21,
   "id": "362d02d1",
   "metadata": {},
   "outputs": [],
   "source": [
    "mtx[mtx > ub] = 1\n",
    "mtx[mtx <= lb] = 0\n",
    "mtx[(mtx <= ub) & (mtx > lb)] = -1\n",
    "mtx = mtx.astype(int)"
   ]
  },
  {
   "cell_type": "code",
   "execution_count": 22,
   "id": "66d77765",
   "metadata": {},
   "outputs": [
    {
     "data": {
      "text/html": [
       "<div>\n",
       "<style scoped>\n",
       "    .dataframe tbody tr th:only-of-type {\n",
       "        vertical-align: middle;\n",
       "    }\n",
       "\n",
       "    .dataframe tbody tr th {\n",
       "        vertical-align: top;\n",
       "    }\n",
       "\n",
       "    .dataframe thead th {\n",
       "        text-align: right;\n",
       "    }\n",
       "</style>\n",
       "<table border=\"1\" class=\"dataframe\">\n",
       "  <thead>\n",
       "    <tr style=\"text-align: right;\">\n",
       "      <th></th>\n",
       "      <th>Polarity</th>\n",
       "      <th>Coverage</th>\n",
       "      <th>Overlaps</th>\n",
       "      <th>Conflicts</th>\n",
       "    </tr>\n",
       "  </thead>\n",
       "  <tbody>\n",
       "    <tr>\n",
       "      <th>0</th>\n",
       "      <td>[0, 1]</td>\n",
       "      <td>1.0</td>\n",
       "      <td>1.0</td>\n",
       "      <td>0.002567</td>\n",
       "    </tr>\n",
       "    <tr>\n",
       "      <th>1</th>\n",
       "      <td>[0, 1]</td>\n",
       "      <td>1.0</td>\n",
       "      <td>1.0</td>\n",
       "      <td>0.002567</td>\n",
       "    </tr>\n",
       "    <tr>\n",
       "      <th>2</th>\n",
       "      <td>[0, 1]</td>\n",
       "      <td>1.0</td>\n",
       "      <td>1.0</td>\n",
       "      <td>0.002567</td>\n",
       "    </tr>\n",
       "  </tbody>\n",
       "</table>\n",
       "</div>"
      ],
      "text/plain": [
       "  Polarity  Coverage  Overlaps  Conflicts\n",
       "0   [0, 1]       1.0       1.0   0.002567\n",
       "1   [0, 1]       1.0       1.0   0.002567\n",
       "2   [0, 1]       1.0       1.0   0.002567"
      ]
     },
     "execution_count": 22,
     "metadata": {},
     "output_type": "execute_result"
    }
   ],
   "source": [
    "LFAnalysis(mtx).lf_summary()"
   ]
  },
  {
   "cell_type": "code",
   "execution_count": 23,
   "id": "6f5e191a",
   "metadata": {},
   "outputs": [],
   "source": [
    "maj_mod = MajorityLabelVoter()\n",
    "preds_train = maj_mod.predict(L=mtx)"
   ]
  },
  {
   "cell_type": "code",
   "execution_count": 14,
   "id": "fa5b5503",
   "metadata": {},
   "outputs": [
    {
     "data": {
      "text/plain": [
       "{'accuracy': 0.856739}"
      ]
     },
     "execution_count": 14,
     "metadata": {},
     "output_type": "execute_result"
    }
   ],
   "source": [
    "maj_mod.score(L=mtx, Y=desmat['snorkel_tr']['y'], tie_break_policy=\"random\")"
   ]
  },
  {
   "cell_type": "code",
   "execution_count": 15,
   "id": "c5af448d",
   "metadata": {},
   "outputs": [
    {
     "name": "stderr",
     "output_type": "stream",
     "text": [
      "INFO:root:Computing O...\n",
      "INFO:root:Estimating \\mu...\n",
      "  0%|                                                | 0/500 [00:00<?, ?epoch/s]INFO:root:[0 epochs]: TRAIN:[loss=0.516]\n",
      "INFO:root:[100 epochs]: TRAIN:[loss=0.000]\n",
      " 30%|██████████▋                         | 149/500 [00:00<00:00, 1487.77epoch/s]INFO:root:[200 epochs]: TRAIN:[loss=0.000]\n",
      " 60%|█████████████████████▍              | 298/500 [00:00<00:00, 1461.73epoch/s]INFO:root:[300 epochs]: TRAIN:[loss=0.000]\n",
      "INFO:root:[400 epochs]: TRAIN:[loss=0.000]\n",
      "100%|████████████████████████████████████| 500/500 [00:00<00:00, 1469.02epoch/s]\n",
      "INFO:root:Finished Training\n"
     ]
    }
   ],
   "source": [
    "lbl_mdl = LabelModel(cardinality=2, verbose=True)\n",
    "lbl_mdl.fit(L_train=mtx, n_epochs=500, log_freq=100, seed=123)"
   ]
  },
  {
   "cell_type": "code",
   "execution_count": 17,
   "id": "8da41833",
   "metadata": {},
   "outputs": [
    {
     "data": {
      "text/plain": [
       "{'accuracy': 0.85664}"
      ]
     },
     "execution_count": 17,
     "metadata": {},
     "output_type": "execute_result"
    }
   ],
   "source": [
    "lbl_mdl.score(L=mtx, Y=desmat['snorkel_tr']['y'], tie_break_policy=\"random\")"
   ]
  },
  {
   "cell_type": "code",
   "execution_count": null,
   "id": "d4fad015",
   "metadata": {},
   "outputs": [],
   "source": []
  }
 ],
 "metadata": {
  "kernelspec": {
   "display_name": "Python 3 (ipykernel)",
   "language": "python",
   "name": "python3"
  },
  "language_info": {
   "codemirror_mode": {
    "name": "ipython",
    "version": 3
   },
   "file_extension": ".py",
   "mimetype": "text/x-python",
   "name": "python",
   "nbconvert_exporter": "python",
   "pygments_lexer": "ipython3",
   "version": "3.8.12"
  }
 },
 "nbformat": 4,
 "nbformat_minor": 5
}
