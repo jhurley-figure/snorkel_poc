{
 "cells": [
  {
   "cell_type": "code",
   "execution_count": 7,
   "id": "e7fa31e1",
   "metadata": {},
   "outputs": [],
   "source": [
    "import random\n",
    "\n",
    "from sklearn import tree\n",
    "from sklearn.ensemble import RandomForestClassifier\n",
    "from sklearn.metrics import average_precision_score, roc_auc_score\n",
    "\n",
    "import graphviz\n",
    "from snorkel.labeling import LFAnalysis, filter_unlabeled_dataframe\n",
    "from snorkel.labeling.model import LabelModel, MajorityLabelVoter\n",
    "import xgboost as xgb\n",
    "\n",
    "import dmnet.util as u"
   ]
  },
  {
   "cell_type": "markdown",
   "id": "f16fbd8f",
   "metadata": {},
   "source": [
    "# Read in data"
   ]
  },
  {
   "cell_type": "code",
   "execution_count": 2,
   "id": "d4011f0d",
   "metadata": {},
   "outputs": [
    {
     "name": "stderr",
     "output_type": "stream",
     "text": [
      "2022-02-25 17:13:15,339\tINFO services.py:1270 -- View the Ray dashboard at \u001b[1m\u001b[32mhttp://127.0.0.1:8265\u001b[39m\u001b[22m\n"
     ]
    },
    {
     "name": "stdout",
     "output_type": "stream",
     "text": [
      "\u001b[2m\u001b[36m(_read_parquet_wrapper pid=56918)\u001b[0m \n"
     ]
    }
   ],
   "source": [
    "CAMPAIGN = '43.prod'\n",
    "\n",
    "tr = pd.read_parquet(f\"gs://dmnet/heloc/campaign/{CAMPAIGN}/dmatrix/tr_gbm.parquet\")\n",
    "te = pd.read_parquet(f\"gs://dmnet/heloc/campaign/{CAMPAIGN}/dmatrix/te_gbm.parquet\")\n",
    "\n",
    "srv_data = u.read_parquet_ray(\"gs://jdh-bucket/projects/snorkel_pos/data/serve/2109A.parquet\")\n",
    "snkl_res = u.read_parquet_ray(\"gs://jdh-bucket/projects/snorkel_pos/data/serve_lbls/2109A\")"
   ]
  },
  {
   "cell_type": "code",
   "execution_count": 3,
   "id": "d659bc4b",
   "metadata": {},
   "outputs": [],
   "source": [
    "tr = tr.set_index(['record_nb', 'encrypted_nb'])\n",
    "te = te.set_index(['record_nb', 'encrypted_nb'])\n",
    "srv_data = srv_data.reset_index().set_index(['record_nb', 'encrypted_nb'])"
   ]
  },
  {
   "cell_type": "markdown",
   "id": "280ad72f",
   "metadata": {},
   "source": [
    "## Create some Decision Trees for a Business Rule Proxy"
   ]
  },
  {
   "cell_type": "code",
   "execution_count": 4,
   "id": "18e2405b",
   "metadata": {},
   "outputs": [],
   "source": [
    "#Filter down to some key features (per ds-utils)\n",
    "key_cols = [\n",
    "    \"PREMIER_V1_2_IQB9410\", \"FICECLV9_SCORE\", \"PREMIER_V1_2_FIP5020\", \"PREMIER_V1_2_ALL7120\", \n",
    "    \"PREMIER_V1_2_FIP8120\", \"PREMIER_V1_2_BCA6220\", \"PREMIER_V1_2_BCC3422\", \"PREMIER_V1_2_IQM9417\",\n",
    "    \"PREMIER_V1_2_IQF9510\",\"PREMIER_V1_2_IQM9540\", \"PREMIER_V1_2_IQT9526\", \"PREMIER_V1_2_REV7434\",\n",
    "    \"PREMIER_V1_2_PIL0438\", \"PREMIER_V1_2_BCC7482\", \"CLTV\", \"PREMIER_V1_2_MTA7432\", \"PREMIER_V1_2_ALL5835\",\n",
    "    \"PREMIER_V1_2_FIP0437\", \"PREMIER_V1_2_MTJ5030\", \"PREMIER_V1_2_MTA0437\", \"PREMIER_V1_2_REV7800\"\n",
    "]\n",
    "key_cols = [col.lower() for col in key_cols]"
   ]
  },
  {
   "cell_type": "code",
   "execution_count": 7,
   "id": "896e74ce",
   "metadata": {},
   "outputs": [],
   "source": [
    "key_cols = set(key_cols).intersection(set(tr.columns.to_list()))\n",
    "X = tr[key_cols]\n",
    "y = tr['y']"
   ]
  },
  {
   "cell_type": "code",
   "execution_count": 11,
   "id": "c4a5c4dd",
   "metadata": {},
   "outputs": [
    {
     "name": "stdout",
     "output_type": "stream",
     "text": [
      "done with tree number 0\n",
      "done with tree number 1\n",
      "done with tree number 2\n",
      "done with tree number 3\n",
      "done with tree number 4\n",
      "done with tree number 5\n",
      "done with tree number 6\n",
      "done with tree number 7\n",
      "done with tree number 8\n",
      "done with tree number 9\n"
     ]
    }
   ],
   "source": [
    "random_state_dict = {0: 123, 1: 234, 2: 345, 3: 456, 4: 567, 5: 678, 6: 789, 7: 890, 8:901, 9: 101112}\n",
    "\n",
    "for x in range(10):\n",
    "    mdl = tree.DecisionTreeRegressor(\n",
    "        max_depth=3,\n",
    "        random_state= random_state_dict[x],\n",
    "        max_features=10\n",
    "    )\n",
    "    mdl.fit(X, y)\n",
    "    \n",
    "    dot_data = tree.export_graphviz(\n",
    "        mdl, \n",
    "        out_file=None, \n",
    "        feature_names=X.columns,  \n",
    "        class_names=True,  \n",
    "        filled=True, \n",
    "        rounded=True,  \n",
    "        special_characters=True,\n",
    "        rotate=True,\n",
    "        proportion=True\n",
    "    )  \n",
    "    graph = graphviz.Source(dot_data)\n",
    "    \n",
    "    png_b = graph.pipe(format='png')\n",
    "    with open(f'./images/rule_{str(x)}_022422.png', 'wb') as f:\n",
    "        f.write(png_b)\n",
    "    print (f'done with tree number {x}')"
   ]
  },
  {
   "cell_type": "markdown",
   "id": "d0cd8a23",
   "metadata": {},
   "source": [
    "# Transition Weak Learner Results to Label Matrix"
   ]
  },
  {
   "cell_type": "code",
   "execution_count": 8,
   "id": "a8983deb",
   "metadata": {},
   "outputs": [],
   "source": [
    "RANGE_OF_ONES = [6000, 9000]\n",
    "RANGE_OF_ZEROS = [10_000_000, 15_000_000]\n",
    "\n",
    "def process_lbl_mtx(df: pd.DataFrame) -> pd.DataFrame:\n",
    "    res = df.copy()\n",
    "    for col in ['gbm', 'rf', 'logit']:\n",
    "        sorted_series = res[col].sort_values(ascending=False)\n",
    "        num_ones = random.randrange(RANGE_OF_ONES[0], RANGE_OF_ONES[1])\n",
    "        min_val_for_ones = sorted_series[:num_ones].min()\n",
    "        \n",
    "        num_zeros = random.randrange(RANGE_OF_ZEROS[0], RANGE_OF_ZEROS[1])\n",
    "        max_val_for_zs = sorted_series[-num_zeros:].max()\n",
    "\n",
    "        conditions = [\n",
    "            res[col] >= min_val_for_ones,\n",
    "            res[col] <= max_val_for_zs,\n",
    "        ]\n",
    "        choices = [1, 0]\n",
    "        res['%s_adj' % col] = np.select(conditions, choices, default=-1)\n",
    "    return res\n",
    "\n",
    "snkl_res = process_lbl_mtx(snkl_res)"
   ]
  },
  {
   "cell_type": "code",
   "execution_count": 5,
   "id": "327a0456",
   "metadata": {},
   "outputs": [],
   "source": []
  },
  {
   "cell_type": "code",
   "execution_count": 15,
   "id": "f9585cf6",
   "metadata": {},
   "outputs": [
    {
     "data": {
      "text/html": [
       "<div>\n",
       "<style scoped>\n",
       "    .dataframe tbody tr th:only-of-type {\n",
       "        vertical-align: middle;\n",
       "    }\n",
       "\n",
       "    .dataframe tbody tr th {\n",
       "        vertical-align: top;\n",
       "    }\n",
       "\n",
       "    .dataframe thead th {\n",
       "        text-align: right;\n",
       "    }\n",
       "</style>\n",
       "<table border=\"1\" class=\"dataframe\">\n",
       "  <thead>\n",
       "    <tr style=\"text-align: right;\">\n",
       "      <th></th>\n",
       "      <th>Polarity</th>\n",
       "      <th>Coverage</th>\n",
       "      <th>Overlaps</th>\n",
       "      <th>Conflicts</th>\n",
       "    </tr>\n",
       "  </thead>\n",
       "  <tbody>\n",
       "    <tr>\n",
       "      <th>0</th>\n",
       "      <td>[]</td>\n",
       "      <td>0.000000</td>\n",
       "      <td>0.000000</td>\n",
       "      <td>0.000000</td>\n",
       "    </tr>\n",
       "    <tr>\n",
       "      <th>1</th>\n",
       "      <td>[0, 1]</td>\n",
       "      <td>1.000000</td>\n",
       "      <td>1.000000</td>\n",
       "      <td>0.120328</td>\n",
       "    </tr>\n",
       "    <tr>\n",
       "      <th>2</th>\n",
       "      <td>[0]</td>\n",
       "      <td>0.944419</td>\n",
       "      <td>0.944419</td>\n",
       "      <td>0.064747</td>\n",
       "    </tr>\n",
       "    <tr>\n",
       "      <th>3</th>\n",
       "      <td>[]</td>\n",
       "      <td>0.000000</td>\n",
       "      <td>0.000000</td>\n",
       "      <td>0.000000</td>\n",
       "    </tr>\n",
       "    <tr>\n",
       "      <th>4</th>\n",
       "      <td>[0, 1]</td>\n",
       "      <td>1.000000</td>\n",
       "      <td>1.000000</td>\n",
       "      <td>0.120328</td>\n",
       "    </tr>\n",
       "    <tr>\n",
       "      <th>5</th>\n",
       "      <td>[0]</td>\n",
       "      <td>1.000000</td>\n",
       "      <td>1.000000</td>\n",
       "      <td>0.120328</td>\n",
       "    </tr>\n",
       "    <tr>\n",
       "      <th>6</th>\n",
       "      <td>[1]</td>\n",
       "      <td>0.005393</td>\n",
       "      <td>0.005393</td>\n",
       "      <td>0.005393</td>\n",
       "    </tr>\n",
       "    <tr>\n",
       "      <th>7</th>\n",
       "      <td>[0]</td>\n",
       "      <td>1.000000</td>\n",
       "      <td>1.000000</td>\n",
       "      <td>0.120328</td>\n",
       "    </tr>\n",
       "    <tr>\n",
       "      <th>8</th>\n",
       "      <td>[0]</td>\n",
       "      <td>0.937574</td>\n",
       "      <td>0.937574</td>\n",
       "      <td>0.061746</td>\n",
       "    </tr>\n",
       "    <tr>\n",
       "      <th>9</th>\n",
       "      <td>[0, 1]</td>\n",
       "      <td>1.000000</td>\n",
       "      <td>1.000000</td>\n",
       "      <td>0.120328</td>\n",
       "    </tr>\n",
       "    <tr>\n",
       "      <th>10</th>\n",
       "      <td>[0]</td>\n",
       "      <td>1.000000</td>\n",
       "      <td>1.000000</td>\n",
       "      <td>0.120328</td>\n",
       "    </tr>\n",
       "    <tr>\n",
       "      <th>11</th>\n",
       "      <td>[0, 1]</td>\n",
       "      <td>1.000000</td>\n",
       "      <td>1.000000</td>\n",
       "      <td>0.120328</td>\n",
       "    </tr>\n",
       "    <tr>\n",
       "      <th>12</th>\n",
       "      <td>[0, 1]</td>\n",
       "      <td>1.000000</td>\n",
       "      <td>1.000000</td>\n",
       "      <td>0.120328</td>\n",
       "    </tr>\n",
       "    <tr>\n",
       "      <th>13</th>\n",
       "      <td>[0, 1]</td>\n",
       "      <td>1.000000</td>\n",
       "      <td>1.000000</td>\n",
       "      <td>0.120328</td>\n",
       "    </tr>\n",
       "    <tr>\n",
       "      <th>14</th>\n",
       "      <td>[0, 1]</td>\n",
       "      <td>1.000000</td>\n",
       "      <td>1.000000</td>\n",
       "      <td>0.120328</td>\n",
       "    </tr>\n",
       "    <tr>\n",
       "      <th>15</th>\n",
       "      <td>[0, 1]</td>\n",
       "      <td>0.477767</td>\n",
       "      <td>0.477767</td>\n",
       "      <td>0.008359</td>\n",
       "    </tr>\n",
       "    <tr>\n",
       "      <th>16</th>\n",
       "      <td>[0, 1]</td>\n",
       "      <td>0.522133</td>\n",
       "      <td>0.522133</td>\n",
       "      <td>0.010801</td>\n",
       "    </tr>\n",
       "    <tr>\n",
       "      <th>17</th>\n",
       "      <td>[0, 1]</td>\n",
       "      <td>0.536781</td>\n",
       "      <td>0.536781</td>\n",
       "      <td>0.023714</td>\n",
       "    </tr>\n",
       "  </tbody>\n",
       "</table>\n",
       "</div>"
      ],
      "text/plain": [
       "   Polarity  Coverage  Overlaps  Conflicts\n",
       "0        []  0.000000  0.000000   0.000000\n",
       "1    [0, 1]  1.000000  1.000000   0.120328\n",
       "2       [0]  0.944419  0.944419   0.064747\n",
       "3        []  0.000000  0.000000   0.000000\n",
       "4    [0, 1]  1.000000  1.000000   0.120328\n",
       "5       [0]  1.000000  1.000000   0.120328\n",
       "6       [1]  0.005393  0.005393   0.005393\n",
       "7       [0]  1.000000  1.000000   0.120328\n",
       "8       [0]  0.937574  0.937574   0.061746\n",
       "9    [0, 1]  1.000000  1.000000   0.120328\n",
       "10      [0]  1.000000  1.000000   0.120328\n",
       "11   [0, 1]  1.000000  1.000000   0.120328\n",
       "12   [0, 1]  1.000000  1.000000   0.120328\n",
       "13   [0, 1]  1.000000  1.000000   0.120328\n",
       "14   [0, 1]  1.000000  1.000000   0.120328\n",
       "15   [0, 1]  0.477767  0.477767   0.008359\n",
       "16   [0, 1]  0.522133  0.522133   0.010801\n",
       "17   [0, 1]  0.536781  0.536781   0.023714"
      ]
     },
     "execution_count": 15,
     "metadata": {},
     "output_type": "execute_result"
    }
   ],
   "source": [
    "lbl_mtx_for_snkl = snkl_res.drop(['gbm', 'rf', 'rf_pred', 'logit', 'logit_pred'], axis=1)\n",
    "lbl_mtx_for_snkl = np.array(lbl_mtx_for_snkl.astype(int))\n",
    "LFAnalysis(lbl_mtx_for_snkl).lf_summary()"
   ]
  },
  {
   "cell_type": "markdown",
   "id": "1f48f83c",
   "metadata": {},
   "source": [
    "# Run Snorkel Generative Model"
   ]
  },
  {
   "cell_type": "code",
   "execution_count": 16,
   "id": "08f9d375",
   "metadata": {},
   "outputs": [
    {
     "name": "stderr",
     "output_type": "stream",
     "text": [
      "INFO:root:Computing O...\n",
      "INFO:root:Estimating \\mu...\n",
      "  0%|                                                | 0/500 [00:00<?, ?epoch/s]INFO:root:[0 epochs]: TRAIN:[loss=84.360]\n",
      "INFO:root:[100 epochs]: TRAIN:[loss=0.203]\n",
      " 24%|████████▊                           | 122/500 [00:00<00:00, 1218.19epoch/s]INFO:root:[200 epochs]: TRAIN:[loss=0.203]\n",
      " 49%|█████████████████▊                  | 247/500 [00:00<00:00, 1233.20epoch/s]INFO:root:[300 epochs]: TRAIN:[loss=0.203]\n",
      " 74%|██████████████████████████▋         | 371/500 [00:00<00:00, 1234.86epoch/s]INFO:root:[400 epochs]: TRAIN:[loss=0.203]\n",
      "100%|████████████████████████████████████| 500/500 [00:00<00:00, 1228.66epoch/s]\n",
      "INFO:root:Finished Training\n"
     ]
    }
   ],
   "source": [
    "lbl_mdl = LabelModel(verbose=True)\n",
    "lbl_mdl.fit(\n",
    "    L_train=lbl_mtx_for_snkl, \n",
    "    class_balance=[0.9988, 0.0012], \n",
    "    n_epochs=500, \n",
    "    log_freq=100, \n",
    "    seed=123\n",
    ")\n",
    "snrkl_results = lbl_mdl.predict_proba(L=lbl_mtx_for_snkl)"
   ]
  },
  {
   "cell_type": "code",
   "execution_count": 17,
   "id": "4efb3aea",
   "metadata": {},
   "outputs": [],
   "source": [
    "snrkl_results = pd.Series(snrkl_results[:, 1], index=snkl_res.index)"
   ]
  },
  {
   "cell_type": "code",
   "execution_count": 18,
   "id": "4fdcdadd",
   "metadata": {},
   "outputs": [],
   "source": [
    "BPS_THRESH = 0.0004\n",
    "NUM_ROWS = int(len(snrkl_results) * BPS_THRESH)\n",
    "\n",
    "topx_snrkl_results = pd.Series(snrkl_results, index=snkl_res.index).head(NUM_ROWS).copy()\n",
    "topx_idx = topx_snrkl_results.index"
   ]
  },
  {
   "cell_type": "code",
   "execution_count": null,
   "id": "e91f8106",
   "metadata": {},
   "outputs": [],
   "source": [
    "len(snkl_res)"
   ]
  },
  {
   "cell_type": "code",
   "execution_count": 20,
   "id": "e00ddade",
   "metadata": {},
   "outputs": [],
   "source": [
    "addl_ones = srv_data.reindex(topx_idx)"
   ]
  },
  {
   "cell_type": "code",
   "execution_count": 21,
   "id": "c044f5b1",
   "metadata": {},
   "outputs": [],
   "source": [
    "addl_ones['y'] = 1"
   ]
  },
  {
   "cell_type": "code",
   "execution_count": 22,
   "id": "28075a32",
   "metadata": {},
   "outputs": [
    {
     "data": {
      "text/html": [
       "<div>\n",
       "<style scoped>\n",
       "    .dataframe tbody tr th:only-of-type {\n",
       "        vertical-align: middle;\n",
       "    }\n",
       "\n",
       "    .dataframe tbody tr th {\n",
       "        vertical-align: top;\n",
       "    }\n",
       "\n",
       "    .dataframe thead th {\n",
       "        text-align: right;\n",
       "    }\n",
       "</style>\n",
       "<table border=\"1\" class=\"dataframe\">\n",
       "  <thead>\n",
       "    <tr style=\"text-align: right;\">\n",
       "      <th></th>\n",
       "      <th></th>\n",
       "      <th>premier_v1_2_iqb9410</th>\n",
       "      <th>ficeclv9_score</th>\n",
       "      <th>premier_v1_2_fip5020</th>\n",
       "      <th>premier_v1_2_all7120</th>\n",
       "      <th>premier_v1_2_fip8120</th>\n",
       "      <th>premier_v1_2_bca6220</th>\n",
       "      <th>premier_v1_2_bcc3422</th>\n",
       "      <th>premier_v1_2_iqm9417</th>\n",
       "      <th>premier_v1_2_iqf9510</th>\n",
       "      <th>premier_v1_2_iqm9540</th>\n",
       "      <th>...</th>\n",
       "      <th>premier_v1_2_mtf0300</th>\n",
       "      <th>premier_v1_2_iln8320</th>\n",
       "      <th>premier_v1_2_mta1380</th>\n",
       "      <th>premier_v1_2_all9125</th>\n",
       "      <th>building_code_ord</th>\n",
       "      <th>pandemic</th>\n",
       "      <th>sin_month</th>\n",
       "      <th>cos_month</th>\n",
       "      <th>applied</th>\n",
       "      <th>y</th>\n",
       "    </tr>\n",
       "    <tr>\n",
       "      <th>record_nb</th>\n",
       "      <th>encrypted_nb</th>\n",
       "      <th></th>\n",
       "      <th></th>\n",
       "      <th></th>\n",
       "      <th></th>\n",
       "      <th></th>\n",
       "      <th></th>\n",
       "      <th></th>\n",
       "      <th></th>\n",
       "      <th></th>\n",
       "      <th></th>\n",
       "      <th></th>\n",
       "      <th></th>\n",
       "      <th></th>\n",
       "      <th></th>\n",
       "      <th></th>\n",
       "      <th></th>\n",
       "      <th></th>\n",
       "      <th></th>\n",
       "      <th></th>\n",
       "      <th></th>\n",
       "      <th></th>\n",
       "    </tr>\n",
       "  </thead>\n",
       "  <tbody>\n",
       "    <tr>\n",
       "      <th>100274831</th>\n",
       "      <th>BKAPY0107724534C7</th>\n",
       "      <td>0.0</td>\n",
       "      <td>836.0</td>\n",
       "      <td>0.0</td>\n",
       "      <td>71.0</td>\n",
       "      <td>0.0</td>\n",
       "      <td>0.0</td>\n",
       "      <td>0.0</td>\n",
       "      <td>0.0</td>\n",
       "      <td>0.0</td>\n",
       "      <td>0.0</td>\n",
       "      <td>...</td>\n",
       "      <td>2.0</td>\n",
       "      <td>0.0</td>\n",
       "      <td>1.0</td>\n",
       "      <td>0.0</td>\n",
       "      <td>1.0</td>\n",
       "      <td>1</td>\n",
       "      <td>-0.989821</td>\n",
       "      <td>-0.142315</td>\n",
       "      <td>0.0</td>\n",
       "      <td>1</td>\n",
       "    </tr>\n",
       "    <tr>\n",
       "      <th>100453487</th>\n",
       "      <th>WYFND0179687866E4</th>\n",
       "      <td>1.0</td>\n",
       "      <td>751.0</td>\n",
       "      <td>0.0</td>\n",
       "      <td>100.0</td>\n",
       "      <td>0.0</td>\n",
       "      <td>1.0</td>\n",
       "      <td>0.0</td>\n",
       "      <td>0.0</td>\n",
       "      <td>0.0</td>\n",
       "      <td>607.0</td>\n",
       "      <td>...</td>\n",
       "      <td>5.0</td>\n",
       "      <td>56.0</td>\n",
       "      <td>2.0</td>\n",
       "      <td>0.0</td>\n",
       "      <td>1.0</td>\n",
       "      <td>1</td>\n",
       "      <td>-0.989821</td>\n",
       "      <td>-0.142315</td>\n",
       "      <td>0.0</td>\n",
       "      <td>1</td>\n",
       "    </tr>\n",
       "    <tr>\n",
       "      <th>100763218</th>\n",
       "      <th>XAWTU0125616585G1</th>\n",
       "      <td>0.0</td>\n",
       "      <td>850.0</td>\n",
       "      <td>0.0</td>\n",
       "      <td>66.0</td>\n",
       "      <td>0.0</td>\n",
       "      <td>0.0</td>\n",
       "      <td>0.0</td>\n",
       "      <td>0.0</td>\n",
       "      <td>0.0</td>\n",
       "      <td>0.0</td>\n",
       "      <td>...</td>\n",
       "      <td>0.0</td>\n",
       "      <td>11.0</td>\n",
       "      <td>1.0</td>\n",
       "      <td>0.0</td>\n",
       "      <td>0.0</td>\n",
       "      <td>1</td>\n",
       "      <td>-0.989821</td>\n",
       "      <td>-0.142315</td>\n",
       "      <td>0.0</td>\n",
       "      <td>1</td>\n",
       "    </tr>\n",
       "    <tr>\n",
       "      <th>100940666</th>\n",
       "      <th>KGYUM0168964193F5</th>\n",
       "      <td>2.0</td>\n",
       "      <td>797.0</td>\n",
       "      <td>0.0</td>\n",
       "      <td>97.0</td>\n",
       "      <td>0.0</td>\n",
       "      <td>1.0</td>\n",
       "      <td>0.0</td>\n",
       "      <td>1.0</td>\n",
       "      <td>0.0</td>\n",
       "      <td>302.0</td>\n",
       "      <td>...</td>\n",
       "      <td>4.0</td>\n",
       "      <td>54.0</td>\n",
       "      <td>2.0</td>\n",
       "      <td>0.0</td>\n",
       "      <td>0.0</td>\n",
       "      <td>1</td>\n",
       "      <td>-0.989821</td>\n",
       "      <td>-0.142315</td>\n",
       "      <td>0.0</td>\n",
       "      <td>1</td>\n",
       "    </tr>\n",
       "    <tr>\n",
       "      <th>100953210</th>\n",
       "      <th>LZCVY0141767009H3</th>\n",
       "      <td>0.0</td>\n",
       "      <td>831.0</td>\n",
       "      <td>0.0</td>\n",
       "      <td>15.0</td>\n",
       "      <td>0.0</td>\n",
       "      <td>0.0</td>\n",
       "      <td>0.0</td>\n",
       "      <td>0.0</td>\n",
       "      <td>0.0</td>\n",
       "      <td>0.0</td>\n",
       "      <td>...</td>\n",
       "      <td>0.0</td>\n",
       "      <td>119.0</td>\n",
       "      <td>0.0</td>\n",
       "      <td>0.0</td>\n",
       "      <td>2.0</td>\n",
       "      <td>1</td>\n",
       "      <td>-0.989821</td>\n",
       "      <td>-0.142315</td>\n",
       "      <td>0.0</td>\n",
       "      <td>1</td>\n",
       "    </tr>\n",
       "  </tbody>\n",
       "</table>\n",
       "<p>5 rows × 103 columns</p>\n",
       "</div>"
      ],
      "text/plain": [
       "                             premier_v1_2_iqb9410  ficeclv9_score  \\\n",
       "record_nb encrypted_nb                                              \n",
       "100274831 BKAPY0107724534C7                   0.0           836.0   \n",
       "100453487 WYFND0179687866E4                   1.0           751.0   \n",
       "100763218 XAWTU0125616585G1                   0.0           850.0   \n",
       "100940666 KGYUM0168964193F5                   2.0           797.0   \n",
       "100953210 LZCVY0141767009H3                   0.0           831.0   \n",
       "\n",
       "                             premier_v1_2_fip5020  premier_v1_2_all7120  \\\n",
       "record_nb encrypted_nb                                                    \n",
       "100274831 BKAPY0107724534C7                   0.0                  71.0   \n",
       "100453487 WYFND0179687866E4                   0.0                 100.0   \n",
       "100763218 XAWTU0125616585G1                   0.0                  66.0   \n",
       "100940666 KGYUM0168964193F5                   0.0                  97.0   \n",
       "100953210 LZCVY0141767009H3                   0.0                  15.0   \n",
       "\n",
       "                             premier_v1_2_fip8120  premier_v1_2_bca6220  \\\n",
       "record_nb encrypted_nb                                                    \n",
       "100274831 BKAPY0107724534C7                   0.0                   0.0   \n",
       "100453487 WYFND0179687866E4                   0.0                   1.0   \n",
       "100763218 XAWTU0125616585G1                   0.0                   0.0   \n",
       "100940666 KGYUM0168964193F5                   0.0                   1.0   \n",
       "100953210 LZCVY0141767009H3                   0.0                   0.0   \n",
       "\n",
       "                             premier_v1_2_bcc3422  premier_v1_2_iqm9417  \\\n",
       "record_nb encrypted_nb                                                    \n",
       "100274831 BKAPY0107724534C7                   0.0                   0.0   \n",
       "100453487 WYFND0179687866E4                   0.0                   0.0   \n",
       "100763218 XAWTU0125616585G1                   0.0                   0.0   \n",
       "100940666 KGYUM0168964193F5                   0.0                   1.0   \n",
       "100953210 LZCVY0141767009H3                   0.0                   0.0   \n",
       "\n",
       "                             premier_v1_2_iqf9510  premier_v1_2_iqm9540  ...  \\\n",
       "record_nb encrypted_nb                                                   ...   \n",
       "100274831 BKAPY0107724534C7                   0.0                   0.0  ...   \n",
       "100453487 WYFND0179687866E4                   0.0                 607.0  ...   \n",
       "100763218 XAWTU0125616585G1                   0.0                   0.0  ...   \n",
       "100940666 KGYUM0168964193F5                   0.0                 302.0  ...   \n",
       "100953210 LZCVY0141767009H3                   0.0                   0.0  ...   \n",
       "\n",
       "                             premier_v1_2_mtf0300  premier_v1_2_iln8320  \\\n",
       "record_nb encrypted_nb                                                    \n",
       "100274831 BKAPY0107724534C7                   2.0                   0.0   \n",
       "100453487 WYFND0179687866E4                   5.0                  56.0   \n",
       "100763218 XAWTU0125616585G1                   0.0                  11.0   \n",
       "100940666 KGYUM0168964193F5                   4.0                  54.0   \n",
       "100953210 LZCVY0141767009H3                   0.0                 119.0   \n",
       "\n",
       "                             premier_v1_2_mta1380  premier_v1_2_all9125  \\\n",
       "record_nb encrypted_nb                                                    \n",
       "100274831 BKAPY0107724534C7                   1.0                   0.0   \n",
       "100453487 WYFND0179687866E4                   2.0                   0.0   \n",
       "100763218 XAWTU0125616585G1                   1.0                   0.0   \n",
       "100940666 KGYUM0168964193F5                   2.0                   0.0   \n",
       "100953210 LZCVY0141767009H3                   0.0                   0.0   \n",
       "\n",
       "                             building_code_ord  pandemic  sin_month  \\\n",
       "record_nb encrypted_nb                                                \n",
       "100274831 BKAPY0107724534C7                1.0         1  -0.989821   \n",
       "100453487 WYFND0179687866E4                1.0         1  -0.989821   \n",
       "100763218 XAWTU0125616585G1                0.0         1  -0.989821   \n",
       "100940666 KGYUM0168964193F5                0.0         1  -0.989821   \n",
       "100953210 LZCVY0141767009H3                2.0         1  -0.989821   \n",
       "\n",
       "                             cos_month  applied  y  \n",
       "record_nb encrypted_nb                              \n",
       "100274831 BKAPY0107724534C7  -0.142315      0.0  1  \n",
       "100453487 WYFND0179687866E4  -0.142315      0.0  1  \n",
       "100763218 XAWTU0125616585G1  -0.142315      0.0  1  \n",
       "100940666 KGYUM0168964193F5  -0.142315      0.0  1  \n",
       "100953210 LZCVY0141767009H3  -0.142315      0.0  1  \n",
       "\n",
       "[5 rows x 103 columns]"
      ]
     },
     "execution_count": 22,
     "metadata": {},
     "output_type": "execute_result"
    }
   ],
   "source": [
    "addl_ones.head()"
   ]
  },
  {
   "cell_type": "code",
   "execution_count": 23,
   "id": "babddd70",
   "metadata": {},
   "outputs": [
    {
     "data": {
      "text/plain": [
       "9400"
      ]
     },
     "execution_count": 23,
     "metadata": {},
     "output_type": "execute_result"
    }
   ],
   "source": [
    "len(addl_ones)"
   ]
  },
  {
   "cell_type": "markdown",
   "id": "c074fa2d",
   "metadata": {},
   "source": [
    "# Test With and Without Add'l Ones from Snorkel"
   ]
  },
  {
   "cell_type": "code",
   "execution_count": 24,
   "id": "970a34ed",
   "metadata": {},
   "outputs": [],
   "source": [
    "def rf_fit(data):\n",
    "    params = {'n_estimators': 500, \n",
    "              'max_depth': 8,\n",
    "              'n_jobs': -1,\n",
    "              'class_weight': 'balanced_subsample'\n",
    "             }\n",
    "    \n",
    "    X, y = data.drop('y', axis=1).fillna(0), data['y']\n",
    "    \n",
    "    rf = RandomForestClassifier(**params)\n",
    "    rf = rf.fit(X, y)\n",
    "    return rf\n",
    "\n",
    "def xgb_fit(data):\n",
    "    params = {'eta': 0.1, \n",
    "              'max_leaves': 25,\n",
    "              'min_child_weight': 850,\n",
    "              'eval_metric': 'auc'\n",
    "             }\n",
    "    \n",
    "    dtrain = xgb.DMatrix(data.drop('y', axis=1), data['y'])\n",
    "    train_kwargs = {\n",
    "        \"params\": params,\n",
    "        \"dtrain\": dtrain,\n",
    "        \"evals_result\": {},\n",
    "        \"evals\": [(dtrain, \"train\")]\n",
    "    }\n",
    "    \n",
    "    train_params = {\n",
    "        \"num_boost_round\": 200,\n",
    "        \"early_stopping_rounds\": 50, \n",
    "        \"verbose_eval\": 100\n",
    "    }\n",
    "    \n",
    "    clf = xgb.train(**train_kwargs, **train_params)\n",
    "    return clf\n"
   ]
  },
  {
   "cell_type": "markdown",
   "id": "7067e82c",
   "metadata": {},
   "source": [
    "## First Generate Consistent Set of Columns"
   ]
  },
  {
   "cell_type": "code",
   "execution_count": 25,
   "id": "f0b5c764",
   "metadata": {},
   "outputs": [],
   "source": [
    "const_cols = list(set(tr.columns).intersection(set(addl_ones.columns.to_list())))\n",
    "\n",
    "Xy_tr = tr[const_cols].copy()\n",
    "Xy_te = te[const_cols].copy()\n",
    "Xy_tr_plus = pd.concat([Xy_tr, addl_ones[const_cols]], axis=0)"
   ]
  },
  {
   "cell_type": "markdown",
   "id": "088b83a8",
   "metadata": {},
   "source": [
    "### Now Try a Simple RF "
   ]
  },
  {
   "cell_type": "code",
   "execution_count": 26,
   "id": "095304e8",
   "metadata": {},
   "outputs": [
    {
     "name": "stdout",
     "output_type": "stream",
     "text": [
      "done with first\n"
     ]
    }
   ],
   "source": [
    "rf = rf_fit(Xy_tr)\n",
    "print ('done with first')\n",
    "rf_plus = rf_fit(Xy_tr_plus)"
   ]
  },
  {
   "cell_type": "code",
   "execution_count": 27,
   "id": "db131a5c",
   "metadata": {},
   "outputs": [],
   "source": [
    "u.pickle_dump(rf, '/home/josephhurley/projects/snorkel_poc/snorkel_poc/model/rf_base.mdl')\n",
    "u.pickle_dump(rf_plus, '/home/josephhurley/projects/snorkel_poc/snorkel_poc/model/rf_plus.mdl')"
   ]
  },
  {
   "cell_type": "code",
   "execution_count": 28,
   "id": "83740508",
   "metadata": {},
   "outputs": [
    {
     "name": "stdout",
     "output_type": "stream",
     "text": [
      "training stats for base rf are roc: 0.7170464889201145 and avg prec: 0.03840416049647319\n",
      "training stats for addl ones rf are roc: 0.7070366640308703 and avg prec: 0.03537693793662562\n",
      "##############\n",
      "testing stats for base rf are roc: 0.6832085953565563 and avg prec: 0.0038690606018947403\n",
      "testing stats for addl ones rf are roc: 0.6767891900676622 and avg prec: 0.0037741579311580953\n"
     ]
    }
   ],
   "source": [
    "rf_preds = pd.Series(rf.predict_proba(Xy_tr.drop('y', axis=1).fillna(0))[:, 1], index=Xy_tr.index)\n",
    "rf_plus_preds = pd.Series(rf_plus.predict_proba(Xy_tr.drop('y', axis=1).fillna(0))[:, 1], index=Xy_tr.index)\n",
    "\n",
    "roc = roc_auc_score(y_score=rf_preds, y_true=Xy_tr['y'])\n",
    "aps = average_precision_score(y_score=rf_preds, y_true=Xy_tr['y'])\n",
    "print (f'training stats for base rf are roc: {roc} and avg prec: {aps}')\n",
    "\n",
    "\n",
    "roc = roc_auc_score(y_score=rf_plus_preds, y_true=Xy_tr['y'])\n",
    "aps = average_precision_score(y_score=rf_plus_preds, y_true=Xy_tr['y'])\n",
    "print (f'training stats for addl ones rf are roc: {roc} and avg prec: {aps}')\n",
    "\n",
    "print ('##############')\n",
    "\n",
    "rf_preds = pd.Series(rf.predict_proba(Xy_te.drop('y', axis=1).fillna(0))[:, 1], index=Xy_te.index)\n",
    "rf_plus_preds = pd.Series(rf_plus.predict_proba(Xy_te.drop('y', axis=1).fillna(0))[:, 1], index=Xy_te.index)\n",
    "\n",
    "roc = roc_auc_score(y_score=rf_preds, y_true=Xy_te['y'])\n",
    "aps = average_precision_score(y_score=rf_preds, y_true=Xy_te['y'])\n",
    "print (f'testing stats for base rf are roc: {roc} and avg prec: {aps}')\n",
    "\n",
    "roc = roc_auc_score(y_score=rf_plus_preds, y_true=Xy_te['y'])\n",
    "aps = average_precision_score(y_score=rf_plus_preds, y_true=Xy_te['y'])\n",
    "print (f'testing stats for addl ones rf are roc: {roc} and avg prec: {aps}')\n"
   ]
  },
  {
   "cell_type": "markdown",
   "id": "567d1504",
   "metadata": {},
   "source": [
    "### Now Do a XGB Classifer"
   ]
  },
  {
   "cell_type": "code",
   "execution_count": 29,
   "id": "1422f98b",
   "metadata": {},
   "outputs": [
    {
     "name": "stdout",
     "output_type": "stream",
     "text": [
      "[0]\ttrain-auc:0.66467\n",
      "[100]\ttrain-auc:0.75482\n",
      "[199]\ttrain-auc:0.76872\n",
      "[0]\ttrain-auc:0.69411\n",
      "[92]\ttrain-auc:0.73840\n"
     ]
    }
   ],
   "source": [
    "xgb_clf = xgb_fit(Xy_tr)\n",
    "xgb_plus = xgb_fit(Xy_tr_plus)"
   ]
  },
  {
   "cell_type": "code",
   "execution_count": 30,
   "id": "d6ac4d23",
   "metadata": {},
   "outputs": [],
   "source": [
    "u.pickle_dump(xgb_clf, '/home/josephhurley/projects/snorkel_poc/snorkel_poc/model/xgbm_base.mdl')\n",
    "u.pickle_dump(xgb_plus, '/home/josephhurley/projects/snorkel_poc/snorkel_poc/model/xgbm_plus.mdl')"
   ]
  },
  {
   "cell_type": "code",
   "execution_count": 31,
   "id": "be57d9a4",
   "metadata": {},
   "outputs": [
    {
     "name": "stdout",
     "output_type": "stream",
     "text": [
      "training stats for base rf are roc: 0.7597738382199718 and avg prec: 0.05814162512236522\n",
      "training stats for addl ones rf are roc: 0.7395973123592751 and avg prec: 0.044944597392257125\n",
      "#####\n",
      "testing stats for base rf are roc: 0.7156126564488273 and avg prec: 0.004940828723240559\n",
      "testing stats for addl ones rf are roc: 0.70759773369513 and avg prec: 0.004482254616007313\n"
     ]
    }
   ],
   "source": [
    "xgb_preds = pd.Series(xgb_clf.predict(xgb.DMatrix(Xy_tr.drop('y', axis=1))), index=Xy_tr.index)\n",
    "xgb_plus_preds = pd.Series(xgb_plus.predict(xgb.DMatrix(Xy_tr.drop('y', axis=1))), index=Xy_tr.index)\n",
    "\n",
    "roc = roc_auc_score(y_score=xgb_preds, y_true=Xy_tr['y'])\n",
    "aps = average_precision_score(y_score=xgb_preds, y_true=Xy_tr['y'])\n",
    "print (f'training stats for base rf are roc: {roc} and avg prec: {aps}')\n",
    "\n",
    "roc = roc_auc_score(y_score=xgb_plus_preds, y_true=Xy_tr['y'])\n",
    "aps = average_precision_score(y_score=xgb_plus_preds, y_true=Xy_tr['y'])\n",
    "print (f'training stats for addl ones rf are roc: {roc} and avg prec: {aps}')\n",
    "\n",
    "print (\"#####\")\n",
    "\n",
    "xgb_preds = pd.Series(xgb_clf.predict(xgb.DMatrix(Xy_te.drop('y', axis=1))), index=Xy_te.index)\n",
    "xgb_plus_preds = pd.Series(xgb_plus.predict(xgb.DMatrix(Xy_te.drop('y', axis=1))), index=Xy_te.index)\n",
    "\n",
    "roc = roc_auc_score(y_score=xgb_preds, y_true=Xy_te['y'])\n",
    "aps = average_precision_score(y_score=xgb_preds, y_true=Xy_te['y'])\n",
    "print (f'testing stats for base rf are roc: {roc} and avg prec: {aps}')\n",
    "\n",
    "roc = roc_auc_score(y_score=xgb_plus_preds, y_true=Xy_te['y'])\n",
    "aps = average_precision_score(y_score=xgb_plus_preds, y_true=Xy_te['y'])\n",
    "print (f'testing stats for addl ones rf are roc: {roc} and avg prec: {aps}')"
   ]
  },
  {
   "cell_type": "code",
   "execution_count": 110,
   "id": "103d2dfb",
   "metadata": {},
   "outputs": [],
   "source": [
    "xgb_preds = pd.Series(xgb_clf.predict(xgb.DMatrix(tr.drop('y', axis=1))), index=tr.index)"
   ]
  },
  {
   "cell_type": "code",
   "execution_count": 112,
   "id": "d285f4c0",
   "metadata": {},
   "outputs": [
    {
     "data": {
      "text/plain": [
       "0.7458396476432586"
      ]
     },
     "execution_count": 112,
     "metadata": {},
     "output_type": "execute_result"
    }
   ],
   "source": [
    "roc_auc_score(y_score=xgb_preds, y_true=y_tr)"
   ]
  },
  {
   "cell_type": "code",
   "execution_count": 113,
   "id": "0e838265",
   "metadata": {},
   "outputs": [],
   "source": [
    "xgb_preds_te = pd.Series(xgb_clf.predict(xgb.DMatrix(te.drop('y', axis=1))), index=te.index)"
   ]
  },
  {
   "cell_type": "code",
   "execution_count": 114,
   "id": "a62fc81b",
   "metadata": {},
   "outputs": [
    {
     "data": {
      "text/plain": [
       "0.7157362780480941"
      ]
     },
     "execution_count": 114,
     "metadata": {},
     "output_type": "execute_result"
    }
   ],
   "source": [
    "roc_auc_score(y_score=xgb_preds_te, y_true=y_te)"
   ]
  },
  {
   "cell_type": "code",
   "execution_count": null,
   "id": "d563bc76",
   "metadata": {},
   "outputs": [],
   "source": []
  },
  {
   "cell_type": "code",
   "execution_count": null,
   "id": "da291958",
   "metadata": {},
   "outputs": [],
   "source": []
  },
  {
   "cell_type": "code",
   "execution_count": 115,
   "id": "c7512eff",
   "metadata": {},
   "outputs": [
    {
     "name": "stdout",
     "output_type": "stream",
     "text": [
      "[0]\ttrain-auc:0.67910\n",
      "[100]\ttrain-auc:0.74856\n",
      "[199]\ttrain-auc:0.75379\n"
     ]
    }
   ],
   "source": [
    "tr_plus = pd.concat([tr, more_ones], axis=0)\n",
    "xgb_clf2 = xgb_fit(tr_plus)"
   ]
  },
  {
   "cell_type": "code",
   "execution_count": 116,
   "id": "85df365b",
   "metadata": {},
   "outputs": [
    {
     "data": {
      "text/plain": [
       "0.7135025803527602"
      ]
     },
     "execution_count": 116,
     "metadata": {},
     "output_type": "execute_result"
    }
   ],
   "source": [
    "xgb2_preds_te = pd.Series(xgb_clf2.predict(xgb.DMatrix(te.drop('y', axis=1))), index=te.index)\n",
    "roc_auc_score(y_score=xgb2_preds_te, y_true=y_te)"
   ]
  },
  {
   "cell_type": "code",
   "execution_count": null,
   "id": "deefcdc8",
   "metadata": {},
   "outputs": [],
   "source": []
  },
  {
   "cell_type": "code",
   "execution_count": null,
   "id": "29f82f8a",
   "metadata": {},
   "outputs": [],
   "source": [
    "print ('joe')"
   ]
  },
  {
   "cell_type": "code",
   "execution_count": 70,
   "id": "af13fc94",
   "metadata": {},
   "outputs": [],
   "source": [
    "rf = RandomForestClassifier(n_estimators=500, max_depth=8, n_jobs=-1)"
   ]
  },
  {
   "cell_type": "code",
   "execution_count": 35,
   "id": "862f5c10",
   "metadata": {},
   "outputs": [
    {
     "data": {
      "text/plain": [
       "RandomForestClassifier(max_depth=8, n_estimators=500)"
      ]
     },
     "execution_count": 35,
     "metadata": {},
     "output_type": "execute_result"
    }
   ],
   "source": [
    "rf"
   ]
  },
  {
   "cell_type": "code",
   "execution_count": 47,
   "id": "4451c030",
   "metadata": {},
   "outputs": [],
   "source": [
    "tr = pd.read_parquet(\"gs://dmnet/heloc/campaign/42.prod/dmatrix/tr_gbm.parquet\")"
   ]
  },
  {
   "cell_type": "code",
   "execution_count": 61,
   "id": "e64494fa",
   "metadata": {},
   "outputs": [],
   "source": [
    "te = pd.read_parquet(\"gs://dmnet/heloc/campaign/42.prod/dmatrix/te_gbm.parquet\")"
   ]
  },
  {
   "cell_type": "code",
   "execution_count": 50,
   "id": "275e09f0",
   "metadata": {},
   "outputs": [],
   "source": [
    "tr = tr.set_index(['record_nb', 'encrypted_nb'])\n",
    "te = te.set_index(['record_nb', 'encrypted_nb'])"
   ]
  },
  {
   "cell_type": "code",
   "execution_count": 63,
   "id": "9f5654e6",
   "metadata": {},
   "outputs": [],
   "source": [
    "te = te.set_index(['record_nb', 'encrypted_nb'])"
   ]
  },
  {
   "cell_type": "code",
   "execution_count": 55,
   "id": "8470fe7d",
   "metadata": {},
   "outputs": [],
   "source": [
    "cols_to_use = list(set(tr.columns).intersection(set(srv_ones.columns)))"
   ]
  },
  {
   "cell_type": "code",
   "execution_count": 57,
   "id": "58c8b978",
   "metadata": {},
   "outputs": [],
   "source": [
    "tr = tr[cols_to_use + ['y']] "
   ]
  },
  {
   "cell_type": "code",
   "execution_count": 64,
   "id": "1259f5cc",
   "metadata": {},
   "outputs": [],
   "source": [
    "te = te[cols_to_use + ['y']] "
   ]
  },
  {
   "cell_type": "code",
   "execution_count": 65,
   "id": "1b164b20",
   "metadata": {},
   "outputs": [
    {
     "data": {
      "text/html": [
       "<div>\n",
       "<style scoped>\n",
       "    .dataframe tbody tr th:only-of-type {\n",
       "        vertical-align: middle;\n",
       "    }\n",
       "\n",
       "    .dataframe tbody tr th {\n",
       "        vertical-align: top;\n",
       "    }\n",
       "\n",
       "    .dataframe thead th {\n",
       "        text-align: right;\n",
       "    }\n",
       "</style>\n",
       "<table border=\"1\" class=\"dataframe\">\n",
       "  <thead>\n",
       "    <tr style=\"text-align: right;\">\n",
       "      <th></th>\n",
       "      <th></th>\n",
       "      <th>premier_v1_2_bca5020</th>\n",
       "      <th>premier_v1_2_iqb9510</th>\n",
       "      <th>premier_v1_2_cru8320</th>\n",
       "      <th>ficeclv9_score</th>\n",
       "      <th>premier_v1_2_hlc0438</th>\n",
       "      <th>premier_v1_2_mta1380</th>\n",
       "      <th>2nd_position_mtg_term_code_ord</th>\n",
       "      <th>premier_v1_2_cru0416</th>\n",
       "      <th>premier_v1_2_all9125</th>\n",
       "      <th>premier_v1_2_bcc7117</th>\n",
       "      <th>...</th>\n",
       "      <th>premier_v1_2_mta7438</th>\n",
       "      <th>premier_v1_2_bcc3422</th>\n",
       "      <th>premier_v1_2_bcc7228</th>\n",
       "      <th>fips_ord</th>\n",
       "      <th>premier_v1_2_reh3410</th>\n",
       "      <th>premier_v1_2_rej8120</th>\n",
       "      <th>premier_v1_2_all5835</th>\n",
       "      <th>premier_v1_2_iqf9415</th>\n",
       "      <th>premier_v1_2_mta6210</th>\n",
       "      <th>y</th>\n",
       "    </tr>\n",
       "    <tr>\n",
       "      <th>record_nb</th>\n",
       "      <th>encrypted_nb</th>\n",
       "      <th></th>\n",
       "      <th></th>\n",
       "      <th></th>\n",
       "      <th></th>\n",
       "      <th></th>\n",
       "      <th></th>\n",
       "      <th></th>\n",
       "      <th></th>\n",
       "      <th></th>\n",
       "      <th></th>\n",
       "      <th></th>\n",
       "      <th></th>\n",
       "      <th></th>\n",
       "      <th></th>\n",
       "      <th></th>\n",
       "      <th></th>\n",
       "      <th></th>\n",
       "      <th></th>\n",
       "      <th></th>\n",
       "      <th></th>\n",
       "      <th></th>\n",
       "    </tr>\n",
       "  </thead>\n",
       "  <tbody>\n",
       "    <tr>\n",
       "      <th>4175</th>\n",
       "      <th>1</th>\n",
       "      <td>1269.0</td>\n",
       "      <td>1.0</td>\n",
       "      <td>66.0</td>\n",
       "      <td>667.0</td>\n",
       "      <td>0.0</td>\n",
       "      <td>1.0</td>\n",
       "      <td>0.001197</td>\n",
       "      <td>0.0</td>\n",
       "      <td>0.0</td>\n",
       "      <td>0.0</td>\n",
       "      <td>...</td>\n",
       "      <td>100.0</td>\n",
       "      <td>0.0</td>\n",
       "      <td>55.0</td>\n",
       "      <td>0.001025</td>\n",
       "      <td>7.0</td>\n",
       "      <td>14.0</td>\n",
       "      <td>3008.0</td>\n",
       "      <td>0.0</td>\n",
       "      <td>0.0</td>\n",
       "      <td>0</td>\n",
       "    </tr>\n",
       "    <tr>\n",
       "      <th>21448</th>\n",
       "      <th>1</th>\n",
       "      <td>26373.0</td>\n",
       "      <td>24.0</td>\n",
       "      <td>89.0</td>\n",
       "      <td>752.0</td>\n",
       "      <td>0.0</td>\n",
       "      <td>2.0</td>\n",
       "      <td>0.001197</td>\n",
       "      <td>0.0</td>\n",
       "      <td>0.0</td>\n",
       "      <td>0.0</td>\n",
       "      <td>...</td>\n",
       "      <td>22.0</td>\n",
       "      <td>0.0</td>\n",
       "      <td>0.0</td>\n",
       "      <td>0.001025</td>\n",
       "      <td>3.0</td>\n",
       "      <td>77.0</td>\n",
       "      <td>3680.0</td>\n",
       "      <td>0.0</td>\n",
       "      <td>1.0</td>\n",
       "      <td>0</td>\n",
       "    </tr>\n",
       "    <tr>\n",
       "      <th>70946</th>\n",
       "      <th>1</th>\n",
       "      <td>39507.0</td>\n",
       "      <td>22.0</td>\n",
       "      <td>44.0</td>\n",
       "      <td>672.0</td>\n",
       "      <td>0.0</td>\n",
       "      <td>1.0</td>\n",
       "      <td>0.001197</td>\n",
       "      <td>4.0</td>\n",
       "      <td>0.0</td>\n",
       "      <td>0.0</td>\n",
       "      <td>...</td>\n",
       "      <td>100.0</td>\n",
       "      <td>8.0</td>\n",
       "      <td>50.0</td>\n",
       "      <td>0.001025</td>\n",
       "      <td>11.0</td>\n",
       "      <td>330.0</td>\n",
       "      <td>3739.0</td>\n",
       "      <td>0.0</td>\n",
       "      <td>0.0</td>\n",
       "      <td>0</td>\n",
       "    </tr>\n",
       "    <tr>\n",
       "      <th>137690</th>\n",
       "      <th>1</th>\n",
       "      <td>15295.0</td>\n",
       "      <td>0.0</td>\n",
       "      <td>191.0</td>\n",
       "      <td>776.0</td>\n",
       "      <td>0.0</td>\n",
       "      <td>1.0</td>\n",
       "      <td>0.001197</td>\n",
       "      <td>0.0</td>\n",
       "      <td>0.0</td>\n",
       "      <td>0.0</td>\n",
       "      <td>...</td>\n",
       "      <td>100.0</td>\n",
       "      <td>0.0</td>\n",
       "      <td>50.0</td>\n",
       "      <td>0.001025</td>\n",
       "      <td>4.0</td>\n",
       "      <td>0.0</td>\n",
       "      <td>3961.0</td>\n",
       "      <td>0.0</td>\n",
       "      <td>0.0</td>\n",
       "      <td>0</td>\n",
       "    </tr>\n",
       "    <tr>\n",
       "      <th>167714</th>\n",
       "      <th>1</th>\n",
       "      <td>16848.0</td>\n",
       "      <td>16.0</td>\n",
       "      <td>0.0</td>\n",
       "      <td>652.0</td>\n",
       "      <td>0.0</td>\n",
       "      <td>1.0</td>\n",
       "      <td>0.001197</td>\n",
       "      <td>0.0</td>\n",
       "      <td>0.0</td>\n",
       "      <td>75.0</td>\n",
       "      <td>...</td>\n",
       "      <td>50.0</td>\n",
       "      <td>3.0</td>\n",
       "      <td>67.0</td>\n",
       "      <td>0.001396</td>\n",
       "      <td>7.0</td>\n",
       "      <td>0.0</td>\n",
       "      <td>2584.0</td>\n",
       "      <td>0.0</td>\n",
       "      <td>0.0</td>\n",
       "      <td>0</td>\n",
       "    </tr>\n",
       "  </tbody>\n",
       "</table>\n",
       "<p>5 rows × 95 columns</p>\n",
       "</div>"
      ],
      "text/plain": [
       "                        premier_v1_2_bca5020  premier_v1_2_iqb9510  \\\n",
       "record_nb encrypted_nb                                               \n",
       "4175      1                           1269.0                   1.0   \n",
       "21448     1                          26373.0                  24.0   \n",
       "70946     1                          39507.0                  22.0   \n",
       "137690    1                          15295.0                   0.0   \n",
       "167714    1                          16848.0                  16.0   \n",
       "\n",
       "                        premier_v1_2_cru8320  ficeclv9_score  \\\n",
       "record_nb encrypted_nb                                         \n",
       "4175      1                             66.0           667.0   \n",
       "21448     1                             89.0           752.0   \n",
       "70946     1                             44.0           672.0   \n",
       "137690    1                            191.0           776.0   \n",
       "167714    1                              0.0           652.0   \n",
       "\n",
       "                        premier_v1_2_hlc0438  premier_v1_2_mta1380  \\\n",
       "record_nb encrypted_nb                                               \n",
       "4175      1                              0.0                   1.0   \n",
       "21448     1                              0.0                   2.0   \n",
       "70946     1                              0.0                   1.0   \n",
       "137690    1                              0.0                   1.0   \n",
       "167714    1                              0.0                   1.0   \n",
       "\n",
       "                        2nd_position_mtg_term_code_ord  premier_v1_2_cru0416  \\\n",
       "record_nb encrypted_nb                                                         \n",
       "4175      1                                   0.001197                   0.0   \n",
       "21448     1                                   0.001197                   0.0   \n",
       "70946     1                                   0.001197                   4.0   \n",
       "137690    1                                   0.001197                   0.0   \n",
       "167714    1                                   0.001197                   0.0   \n",
       "\n",
       "                        premier_v1_2_all9125  premier_v1_2_bcc7117  ...  \\\n",
       "record_nb encrypted_nb                                              ...   \n",
       "4175      1                              0.0                   0.0  ...   \n",
       "21448     1                              0.0                   0.0  ...   \n",
       "70946     1                              0.0                   0.0  ...   \n",
       "137690    1                              0.0                   0.0  ...   \n",
       "167714    1                              0.0                  75.0  ...   \n",
       "\n",
       "                        premier_v1_2_mta7438  premier_v1_2_bcc3422  \\\n",
       "record_nb encrypted_nb                                               \n",
       "4175      1                            100.0                   0.0   \n",
       "21448     1                             22.0                   0.0   \n",
       "70946     1                            100.0                   8.0   \n",
       "137690    1                            100.0                   0.0   \n",
       "167714    1                             50.0                   3.0   \n",
       "\n",
       "                        premier_v1_2_bcc7228  fips_ord  premier_v1_2_reh3410  \\\n",
       "record_nb encrypted_nb                                                         \n",
       "4175      1                             55.0  0.001025                   7.0   \n",
       "21448     1                              0.0  0.001025                   3.0   \n",
       "70946     1                             50.0  0.001025                  11.0   \n",
       "137690    1                             50.0  0.001025                   4.0   \n",
       "167714    1                             67.0  0.001396                   7.0   \n",
       "\n",
       "                        premier_v1_2_rej8120  premier_v1_2_all5835  \\\n",
       "record_nb encrypted_nb                                               \n",
       "4175      1                             14.0                3008.0   \n",
       "21448     1                             77.0                3680.0   \n",
       "70946     1                            330.0                3739.0   \n",
       "137690    1                              0.0                3961.0   \n",
       "167714    1                              0.0                2584.0   \n",
       "\n",
       "                        premier_v1_2_iqf9415  premier_v1_2_mta6210  y  \n",
       "record_nb encrypted_nb                                                 \n",
       "4175      1                              0.0                   0.0  0  \n",
       "21448     1                              0.0                   1.0  0  \n",
       "70946     1                              0.0                   0.0  0  \n",
       "137690    1                              0.0                   0.0  0  \n",
       "167714    1                              0.0                   0.0  0  \n",
       "\n",
       "[5 rows x 95 columns]"
      ]
     },
     "execution_count": 65,
     "metadata": {},
     "output_type": "execute_result"
    }
   ],
   "source": [
    "te.head()"
   ]
  },
  {
   "cell_type": "code",
   "execution_count": 95,
   "id": "e10ab24c",
   "metadata": {},
   "outputs": [],
   "source": [
    "more_ones = srv_ones[cols_to_use].copy()\n",
    "more_ones['y'] = 1"
   ]
  },
  {
   "cell_type": "code",
   "execution_count": 71,
   "id": "3df368f8",
   "metadata": {},
   "outputs": [
    {
     "data": {
      "text/plain": [
       "RandomForestClassifier(max_depth=8, n_estimators=500, n_jobs=-1)"
      ]
     },
     "execution_count": 71,
     "metadata": {},
     "output_type": "execute_result"
    }
   ],
   "source": [
    "X_tr, y_tr = tr.drop('y', axis=1), tr['y']\n",
    "X_tr = X_tr.fillna(0)\n",
    "rf.fit(X_tr, y_tr)"
   ]
  },
  {
   "cell_type": "code",
   "execution_count": 72,
   "id": "cfce333f",
   "metadata": {},
   "outputs": [],
   "source": [
    "tr_preds = rf.predict_proba(X_tr)[:, 1]"
   ]
  },
  {
   "cell_type": "code",
   "execution_count": 73,
   "id": "4950463b",
   "metadata": {},
   "outputs": [],
   "source": []
  },
  {
   "cell_type": "code",
   "execution_count": 76,
   "id": "e654c8fe",
   "metadata": {},
   "outputs": [
    {
     "data": {
      "text/plain": [
       "0.6930789416753094"
      ]
     },
     "execution_count": 76,
     "metadata": {},
     "output_type": "execute_result"
    }
   ],
   "source": [
    "roc_auc_score(y_score=tr_preds, y_true=y_tr)"
   ]
  },
  {
   "cell_type": "code",
   "execution_count": 79,
   "id": "2476a9e9",
   "metadata": {},
   "outputs": [],
   "source": [
    "X_te, y_te = te.drop('y', axis=1), te['y']\n",
    "X_te = X_te.fillna(0)"
   ]
  },
  {
   "cell_type": "code",
   "execution_count": 80,
   "id": "1b32e878",
   "metadata": {},
   "outputs": [],
   "source": [
    "te_preds = rf.predict_proba(X_te)[:, 1]"
   ]
  },
  {
   "cell_type": "code",
   "execution_count": 81,
   "id": "9248480e",
   "metadata": {},
   "outputs": [
    {
     "data": {
      "text/plain": [
       "0.6849188471706258"
      ]
     },
     "execution_count": 81,
     "metadata": {},
     "output_type": "execute_result"
    }
   ],
   "source": [
    "roc_auc_score(y_score=te_preds, y_true=y_te)"
   ]
  },
  {
   "cell_type": "code",
   "execution_count": 97,
   "id": "b390cba2",
   "metadata": {},
   "outputs": [
    {
     "data": {
      "text/plain": [
       "RandomForestClassifier(max_depth=8, n_estimators=500, n_jobs=-1)"
      ]
     },
     "execution_count": 97,
     "metadata": {},
     "output_type": "execute_result"
    }
   ],
   "source": [
    "rf2 = RandomForestClassifier(n_estimators=500, max_depth=8, n_jobs=-1)\n",
    "X_tr_plus = pd.concat([tr.drop('y', axis=1), more_ones.drop('y', axis=1)], axis=0)\n",
    "y_tr_plus = pd.concat([tr['y'], more_ones['y']], axis=0)\n",
    "X_tr_plus = X_tr_plus.fillna(0)\n",
    "rf2.fit(X_tr_plus, y_tr_plus)"
   ]
  },
  {
   "cell_type": "code",
   "execution_count": 98,
   "id": "4cb2d616",
   "metadata": {},
   "outputs": [],
   "source": [
    "te_preds2 = rf2.predict_proba(X_te)[:, 1]"
   ]
  },
  {
   "cell_type": "code",
   "execution_count": 99,
   "id": "14abcf8a",
   "metadata": {},
   "outputs": [
    {
     "data": {
      "text/plain": [
       "0.6778944215975258"
      ]
     },
     "execution_count": 99,
     "metadata": {},
     "output_type": "execute_result"
    }
   ],
   "source": [
    "roc_auc_score(y_score=te_preds2, y_true=y_te)"
   ]
  },
  {
   "cell_type": "code",
   "execution_count": null,
   "id": "c5f43a5c",
   "metadata": {},
   "outputs": [],
   "source": []
  }
 ],
 "metadata": {
  "kernelspec": {
   "display_name": "Python 3 (ipykernel)",
   "language": "python",
   "name": "python3"
  },
  "language_info": {
   "codemirror_mode": {
    "name": "ipython",
    "version": 3
   },
   "file_extension": ".py",
   "mimetype": "text/x-python",
   "name": "python",
   "nbconvert_exporter": "python",
   "pygments_lexer": "ipython3",
   "version": "3.8.12"
  }
 },
 "nbformat": 4,
 "nbformat_minor": 5
}
