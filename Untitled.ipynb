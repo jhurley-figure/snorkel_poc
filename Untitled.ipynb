{
 "cells": [
  {
   "cell_type": "code",
   "execution_count": 18,
   "id": "2e1b70f4",
   "metadata": {},
   "outputs": [],
   "source": [
    "import bqutil.pqjoin.core as bqpq\n",
    "import dask.dataframe as dd"
   ]
  },
  {
   "cell_type": "code",
   "execution_count": 26,
   "id": "09ef9510",
   "metadata": {},
   "outputs": [
    {
     "name": "stdout",
     "output_type": "stream",
     "text": [
      "13.2 s ± 76.1 ms per loop (mean ± std. dev. of 7 runs, 1 loop each)\n"
     ]
    }
   ],
   "source": [
    "%timeit dd.read_parquet(\"gs://fundnet/43.prod/data/predictions/predictions_serve.parquet/*.parquet\", gather_statistics=False).head(1)"
   ]
  },
  {
   "cell_type": "code",
   "execution_count": 27,
   "id": "2944661e",
   "metadata": {},
   "outputs": [
    {
     "name": "stdout",
     "output_type": "stream",
     "text": [
      "1.26 s ± 21.1 ms per loop (mean ± std. dev. of 7 runs, 1 loop each)\n"
     ]
    }
   ],
   "source": [
    "%timeit dd.read_parquet(\"gs://fundnet/43.prod/data/predictions/predictions_serve.parquet/\", gather_statistics=False).head(1)"
   ]
  },
  {
   "cell_type": "code",
   "execution_count": 17,
   "id": "bb23ea30",
   "metadata": {},
   "outputs": [
    {
     "name": "stdout",
     "output_type": "stream",
     "text": [
      "done with globbing\n",
      "inside...__post__init\n",
      "0\n",
      "gs://fundnet/43.prod/data/predictions/predictions_serve.parquet/*.parquet\n",
      "gets into try get_path_columnsXXX\n",
      "inside...__post__init\n",
      "0\n",
      "gs://fundnet/43.prod/data/predictions/clean_propensity.parquet/serve_pred_gbm.parquet/*.parquet\n",
      "gets into try get_path_columnsXXX\n",
      "done with instantiating\n"
     ]
    }
   ],
   "source": [
    "tt = bqpq.BQJoiner(\n",
    "    pq_paths=[\"gs://fundnet/43.prod/data/predictions/predictions_serve.parquet\",\n",
    "              \"gs://fundnet/43.prod/data/predictions/clean_propensity.parquet/serve_pred_gbm.parquet\"\n",
    "             ],\n",
    "    suffixes=['_a', 'b'], \n",
    "    join_cols=['record_nb', 'encrypted_nb'], \n",
    "    dataset='fund_net',\n",
    "    drop_tables_before_run=True\n",
    ")"
   ]
  },
  {
   "cell_type": "code",
   "execution_count": 9,
   "id": "1c032bb3",
   "metadata": {},
   "outputs": [
    {
     "data": {
      "text/plain": [
       "['gs://fundnet/43.prod/data/predictions/predictions_serve.parquet/*.parquet',\n",
       " 'gs://fundnet/43.prod/data/predictions/clean_propensity.parquet/serve_pred_gbm.parquet/*.parquet']"
      ]
     },
     "execution_count": 9,
     "metadata": {},
     "output_type": "execute_result"
    }
   ],
   "source": [
    "tt.pq_paths_globbed"
   ]
  },
  {
   "cell_type": "code",
   "execution_count": 10,
   "id": "596c3aa4",
   "metadata": {},
   "outputs": [
    {
     "data": {
      "text/plain": [
       "<zip at 0x7f8b21756340>"
      ]
     },
     "execution_count": 10,
     "metadata": {},
     "output_type": "execute_result"
    }
   ],
   "source": [
    "zip(tt.pq_paths_globbed, ['_a', '_b'])"
   ]
  },
  {
   "cell_type": "code",
   "execution_count": 11,
   "id": "74000e7f",
   "metadata": {},
   "outputs": [
    {
     "name": "stdout",
     "output_type": "stream",
     "text": [
      "gs://fundnet/43.prod/data/predictions/predictions_serve.parquet/*.parquet _a\n",
      "gs://fundnet/43.prod/data/predictions/clean_propensity.parquet/serve_pred_gbm.parquet/*.parquet _b\n"
     ]
    }
   ],
   "source": [
    "for p, s in zip(tt.pq_paths_globbed, ['_a', '_b']):\n",
    "    print (p, s)"
   ]
  },
  {
   "cell_type": "code",
   "execution_count": 12,
   "id": "a7021a43",
   "metadata": {},
   "outputs": [],
   "source": [
    "pis = [bqpq.ParquetItem(data_path=p, idx_cols=['record_nb', 'encrypted_nb'], suffix=s) \n",
    "       for p, x in zip(tt.pq_paths_globbed, ['_a', '_b'])]"
   ]
  },
  {
   "cell_type": "code",
   "execution_count": 13,
   "id": "9aa0f0d6",
   "metadata": {},
   "outputs": [
    {
     "data": {
      "text/plain": [
       "[ParquetItem(data_path='gs://fundnet/43.prod/data/predictions/predictions_serve.parquet/*.parquet', idx_cols=['record_nb', 'encrypted_nb'], suffix='_b'),\n",
       " ParquetItem(data_path='gs://fundnet/43.prod/data/predictions/clean_propensity.parquet/serve_pred_gbm.parquet/*.parquet', idx_cols=['record_nb', 'encrypted_nb'], suffix='_b')]"
      ]
     },
     "execution_count": 13,
     "metadata": {},
     "output_type": "execute_result"
    }
   ],
   "source": [
    "pis"
   ]
  },
  {
   "cell_type": "code",
   "execution_count": null,
   "id": "4d79c129",
   "metadata": {},
   "outputs": [],
   "source": []
  }
 ],
 "metadata": {
  "kernelspec": {
   "display_name": "Python 3 (ipykernel)",
   "language": "python",
   "name": "python3"
  },
  "language_info": {
   "codemirror_mode": {
    "name": "ipython",
    "version": 3
   },
   "file_extension": ".py",
   "mimetype": "text/x-python",
   "name": "python",
   "nbconvert_exporter": "python",
   "pygments_lexer": "ipython3",
   "version": "3.8.12"
  }
 },
 "nbformat": 4,
 "nbformat_minor": 5
}
